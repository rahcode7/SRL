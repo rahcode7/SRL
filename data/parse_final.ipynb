{
 "cells": [
  {
   "cell_type": "code",
   "execution_count": 11,
   "metadata": {},
   "outputs": [],
   "source": [
    "import sys\n",
    "import pandas as pd\n",
    "import numpy as np\n",
    "import os\n",
    "import re\n",
    "import nltk\n",
    "from nltk.tokenize import TreebankWordTokenizer"
   ]
  },
  {
   "cell_type": "code",
   "execution_count": 29,
   "metadata": {},
   "outputs": [
    {
     "name": "stdout",
     "output_type": "stream",
     "text": [
      "      dim_0     dim_1     dim_2     dim_3     dim_4     dim_5     dim_6  \\\n",
      "0 -0.005985  0.015627  0.007076  0.006575  0.014297  0.007125 -0.000785   \n",
      "1  0.021908 -0.084995 -0.011690 -0.048774 -0.052874 -0.018173  0.058139   \n",
      "2  0.014475 -0.069880 -0.003023  0.022581 -0.021881  0.012437  0.103112   \n",
      "3 -0.019438 -0.003835 -0.027385  0.019167 -0.001544  0.027654 -0.007453   \n",
      "4  0.000870  0.018253  0.025201 -0.015667  0.002589 -0.026993 -0.012401   \n",
      "\n",
      "      dim_7     dim_8     dim_9  ...   dim_298   dim_299  Label     chunk  \\\n",
      "0 -0.009658 -0.001066 -0.043356  ...  0.008799 -0.023102      1       JJP   \n",
      "1 -0.065300 -0.007800 -0.011115  ...  0.021349  0.001630      0       VGF   \n",
      "2 -0.104538 -0.024584  0.046685  ... -0.050404 -0.116184      0       CCP   \n",
      "3 -0.041042 -0.011774 -0.011934  ...  0.024064 -0.017355      1        NP   \n",
      "4 -0.034212  0.000570  0.025318  ...  0.004674  0.013638      0  NULL__NP   \n",
      "\n",
      "   postposition  head-POS  dependency-head  dependency       srl  predicate  \n",
      "0             0       adj              VGF         k1s  ARG2-ATR      VGF.1  \n",
      "1            है         v                0        root         0          0  \n",
      "2             0       avy         NULL__NP          rs         0          0  \n",
      "3          0_को         n             VGNF         k7t  ARGM-TMP       VGNF  \n",
      "4             0         0                0        root         0          0  \n",
      "\n",
      "[5 rows x 308 columns]\n"
     ]
    }
   ],
   "source": [
    "dataset = pd.read_csv('./expected.csv')\n",
    "# print(dataset.columns)\n",
    "print(dataset.head())\n",
    "# print(dataset)"
   ]
  },
  {
   "cell_type": "code",
   "execution_count": 14,
   "metadata": {},
   "outputs": [],
   "source": [
    "dataset.dropna(axis=0, how='any',inplace=True)\n",
    "# print(dataset)"
   ]
  },
  {
   "cell_type": "code",
   "execution_count": 39,
   "metadata": {},
   "outputs": [
    {
     "data": {
      "text/plain": [
       "0        ARG2-ATR\n",
       "1               0\n",
       "2               0\n",
       "3        ARGM-TMP\n",
       "4               0\n",
       "           ...   \n",
       "14541           0\n",
       "14542        ARG1\n",
       "14543           0\n",
       "14544           0\n",
       "14545           0\n",
       "Name: srl, Length: 14546, dtype: object"
      ]
     },
     "execution_count": 39,
     "metadata": {},
     "output_type": "execute_result"
    }
   ],
   "source": [
    "dataset.srl\n",
    "\n"
   ]
  },
  {
   "cell_type": "code",
   "execution_count": 52,
   "metadata": {},
   "outputs": [],
   "source": [
    "for item in dataset:\n",
    "    if item in ['chunk', 'postposition', 'head-POS', 'dependency-head', 'dependency', 'srl', 'predicate']:\n",
    "        dataset[item] = dataset[item].str.strip()"
   ]
  },
  {
   "cell_type": "code",
   "execution_count": null,
   "metadata": {},
   "outputs": [],
   "source": [
    "twt = TreebankWordTokenizer()\n"
   ]
  }
 ],
 "metadata": {
  "kernelspec": {
   "display_name": "Python 3",
   "language": "python",
   "name": "python3"
  },
  "language_info": {
   "codemirror_mode": {
    "name": "ipython",
    "version": 3
   },
   "file_extension": ".py",
   "mimetype": "text/x-python",
   "name": "python",
   "nbconvert_exporter": "python",
   "pygments_lexer": "ipython3",
   "version": "3.8.3"
  }
 },
 "nbformat": 4,
 "nbformat_minor": 4
}
